{
 "cells": [
  {
   "cell_type": "markdown",
   "id": "b824fd9d-f231-4144-9903-60fd60c1a964",
   "metadata": {},
   "source": [
    "## Create data in coco annotation format"
   ]
  },
  {
   "cell_type": "code",
   "execution_count": 1,
   "id": "24407c20-b878-4766-85fb-124b93935e3b",
   "metadata": {},
   "outputs": [],
   "source": [
    "import numpy as np\n",
    "from PIL import Image\n",
    "from skimage import measure\n",
    "from shapely.geometry import Polygon, MultiPolygon\n",
    "import glob\n",
    "import re\n",
    "import os\n",
    "import cv2\n",
    "import json\n",
    "from tqdm import tqdm_notebook, tqdm"
   ]
  },
  {
   "cell_type": "code",
   "execution_count": 2,
   "id": "ba9f751e-e8e9-434f-b84b-d21c6b2c1c5a",
   "metadata": {},
   "outputs": [],
   "source": [
    "def create_sub_masks(mask_image):\n",
    "    width, height = mask_image.size\n",
    "    sub_masks = {}\n",
    "    for x in range(width):\n",
    "        for y in range(height):\n",
    "            pixel = mask_image.getpixel((x,y))\n",
    "            \n",
    "            if pixel!=0:\n",
    "                pixel_str = str(pixel)\n",
    "                sub_mask = sub_masks.get(pixel_str)\n",
    "                if sub_mask is None:\n",
    "                    sub_masks[pixel_str] = Image.new('1', (width+2, height+2))\n",
    "                sub_masks[pixel_str].putpixel((x+1,y+1),1)\n",
    "                \n",
    "    return sub_masks\n",
    "                    "
   ]
  },
  {
   "cell_type": "code",
   "execution_count": 3,
   "id": "e77da716-c868-4bf0-ae41-efee8f2578f2",
   "metadata": {},
   "outputs": [],
   "source": [
    "def create_sub_mask_annotation(sub_mask, image_id, category_id, annotation_id, is_crowd):\n",
    "    \n",
    "    contours = measure.find_contours(sub_mask,0.5,positive_orientation='low')\n",
    "    \n",
    "    segmentations = []\n",
    "    polygons = []\n",
    "    for contour in contours:\n",
    "        for i in range(len(contour)):\n",
    "            row, col = contour[i]\n",
    "            contour[i] = (col - 1, row - 1)\n",
    "            \n",
    "        poly = Polygon(contour)\n",
    "        poly = poly.simplify(1.0, preserve_topology=False)\n",
    "        polygons.append(poly)\n",
    "        \n",
    "        segmentation = np.array(poly.exterior.coords).ravel().tolist()\n",
    "        segmentations.append(segmentation)\n",
    "        \n",
    "    multi_poly = MultiPolygon(polygons)\n",
    "    x,y, max_x, max_y = multi_poly.bounds\n",
    "    width = max_x - x\n",
    "    height = max_y - y\n",
    "    bbox = (x,y,width, height)\n",
    "    area = multi_poly.area\n",
    "\n",
    "    annotation = {\n",
    "    'id':annotation_id,\n",
    "    'image_id':image_id,\n",
    "    'category_id':category_id,\n",
    "    'bbox':bbox,\n",
    "    'area':area,\n",
    "    'segmentation':segmentations,\n",
    "    'iscrowd':is_crowd,\n",
    "    }\n",
    "    return annotation"
   ]
  },
  {
   "cell_type": "code",
   "execution_count": 4,
   "id": "722d6678-7699-491a-b00c-b48b026b48f4",
   "metadata": {},
   "outputs": [],
   "source": [
    "\n",
    "def get_categories_id(ann_img,categories_dict):\n",
    "    img_dict = {}\n",
    "    img_id = os.path.basename(ann_img).split('.')[0]\n",
    "    i = Image.open(ann_img)\n",
    "\n",
    "    pixels = i.load() # this is not a list, nor is it list()'able\n",
    "    width, height = i.size\n",
    "\n",
    "    all_pixels = []\n",
    "    for x in range(width):\n",
    "        for y in range(height):\n",
    "            cpixel = pixels[x, y]\n",
    "            all_pixels.append(cpixel)\n",
    "    unique_pixels = list(set(all_pixels))\n",
    "    all_pixel_dict = {}\n",
    "    for i in unique_pixels:\n",
    "        all_pixel_dict[str(i)] = categories_dict.get(str(i))\n",
    "    img_dict[img_id] = all_pixel_dict\n",
    "    return img_dict"
   ]
  },
  {
   "cell_type": "code",
   "execution_count": 5,
   "id": "92e4b6da-59bc-4476-b76f-f8d5844a70f3",
   "metadata": {},
   "outputs": [
    {
     "name": "stderr",
     "output_type": "stream",
     "text": [
      "/tmp/ipykernel_8589/1008022342.py:14: TqdmDeprecationWarning: This function will be removed in tqdm==5.0.0\n",
      "Please use `tqdm.notebook.tqdm` instead of `tqdm.tqdm_notebook`\n",
      "  for all_mask in tqdm_notebook(all_ann):\n"
     ]
    },
    {
     "data": {
      "application/vnd.jupyter.widget-view+json": {
       "model_id": "6671e67f0950495793fea05cf4fcded1",
       "version_major": 2,
       "version_minor": 0
      },
      "text/plain": [
       "  0%|          | 0/2135 [00:00<?, ?it/s]"
      ]
     },
     "metadata": {},
     "output_type": "display_data"
    }
   ],
   "source": [
    "categoryy = {}\n",
    "all_category = {}\n",
    "all_ann = glob.glob('/home/dipesh/Desktop/dev/Food-detection-main/Food_Segmentation/dataset/FoodSeg103/FoodSeg103/Images/ann_dir/test/*.png')\n",
    "categories_dict_path = \"/home/dipesh/Desktop/dev/Food-detection-main/Food_Segmentation/dataset/FoodSeg103/FoodSeg103/category_id.txt\"\n",
    "\n",
    "with open(categories_dict_path,'r') as f:\n",
    "    contents = f.readlines()\n",
    "\n",
    "for line in contents:\n",
    "    rslt = re.split(r'\\t+', line)\n",
    "    categoryy[rslt[0]] = rslt[1].rstrip('\\n')\n",
    "\n",
    "for all_mask in tqdm_notebook(all_ann):\n",
    "    rslt = get_categories_id(all_mask,categoryy)\n",
    "    all_category.update(rslt)\n",
    "    \n",
    "for key, value in all_category.items():\n",
    "    value.pop('0')\n",
    "    "
   ]
  },
  {
   "cell_type": "code",
   "execution_count": 7,
   "id": "7687466a-7dd4-4e37-8664-9d79417f45b3",
   "metadata": {},
   "outputs": [
    {
     "name": "stderr",
     "output_type": "stream",
     "text": [
      "100%|███████████████████████████████████████| 2135/2135 [09:44<00:00,  3.65it/s]\n"
     ]
    }
   ],
   "source": [
    "mask_images = all_ann = glob.glob('/home/gvc/Desktop/dev/Food-detection-main/Food_Segmentation/dataset/FoodSeg103/FoodSeg103/Images/ann_dir/test/*.png')\n",
    "\n",
    "category_ids = all_category\n",
    "is_crowd = 0\n",
    "annotation_id = 1\n",
    "annotations = []\n",
    "final_categories = []\n",
    "final_images = []\n",
    "for mask_image in tqdm(mask_images):\n",
    "    img_id = os.path.basename(mask_image).split('.')[0]\n",
    "    i = Image.open(mask_image)\n",
    "    width, height = i.size\n",
    "    sub_masks = create_sub_masks(i)\n",
    "    for color, sub_mask in sub_masks.items():\n",
    "        open_cv_image = np.array(sub_mask)       \n",
    "        category_id = color\n",
    "        try:\n",
    "            annotation = create_sub_mask_annotation(open_cv_image,img_id,category_id, annotation_id, is_crowd)\n",
    "        except:\n",
    "            pass\n",
    "        annotations.append(annotation)\n",
    "        category_to_be_added = {\"id\":category_id,\"name\":category_ids.get(img_id).get(color),\"name_readable\":category_ids.get(img_id).get(color), \"supercategory\":\"food\"}\n",
    "        image_to_be_added = {\"id\":img_id, \"file_name\": img_id+'.jpg', \"width\": width, \"height\": height}\n",
    "        if not category_to_be_added in final_categories:\n",
    "            final_categories.append(category_to_be_added)\n",
    "        if not image_to_be_added in final_images:\n",
    "            final_images.append(image_to_be_added)\n",
    "        annotation_id +=1\n",
    "    "
   ]
  },
  {
   "cell_type": "code",
   "execution_count": 8,
   "id": "d34083fa-31a2-4d0e-a7cc-c4c3256f886a",
   "metadata": {},
   "outputs": [],
   "source": [
    "to_be_dumped = {\n",
    "    \"categories\":final_categories,\n",
    "    \"images\":final_images,\n",
    "    \"annotations\":annotations,\n",
    "    \"info\":{},\n",
    "}"
   ]
  },
  {
   "cell_type": "code",
   "execution_count": 9,
   "id": "71e50df0-d32a-4286-8aaf-eb2150d29fa4",
   "metadata": {},
   "outputs": [],
   "source": [
    "with open('new_annotation_val.json','w') as f:\n",
    "    json.dump(to_be_dumped,f)"
   ]
  },
  {
   "cell_type": "markdown",
   "id": "eedb3bda-7273-4f6d-9589-d726fdf7d380",
   "metadata": {},
   "source": [
    "## Merge two annotations"
   ]
  },
  {
   "cell_type": "code",
   "execution_count": 10,
   "id": "e6c8c138-7e21-4c76-beef-dbbcdccd4277",
   "metadata": {},
   "outputs": [],
   "source": [
    "with open(\"dataset/val/annotations.json\") as fp:\n",
    "    previous_annotation = json.load(fp)\n"
   ]
  },
  {
   "cell_type": "code",
   "execution_count": 11,
   "id": "ac434879-aac2-4d38-b271-419d13e57cff",
   "metadata": {},
   "outputs": [
    {
     "name": "stdout",
     "output_type": "stream",
     "text": [
      "323\n",
      "1708\n",
      "946\n",
      "103\n",
      "7697\n",
      "2135\n"
     ]
    }
   ],
   "source": [
    "print(len(previous_annotation[\"categories\"]))\n",
    "print(len(previous_annotation[\"annotations\"]))\n",
    "print(len(previous_annotation[\"images\"]))\n",
    "\n",
    "print(len(to_be_dumped[\"categories\"]))\n",
    "print(len(to_be_dumped[\"annotations\"]))\n",
    "print(len(to_be_dumped[\"images\"]))"
   ]
  },
  {
   "cell_type": "code",
   "execution_count": 12,
   "id": "c7102f8f-04ae-48bd-90fe-c4d5a5698410",
   "metadata": {},
   "outputs": [],
   "source": [
    "for i, j in previous_annotation.items():\n",
    "    if i == \"categories\":\n",
    "        for k in to_be_dumped.get(\"categories\"):\n",
    "            j.append(k)\n",
    "    if i == \"annotations\":\n",
    "        for k in to_be_dumped.get(\"annotations\"):\n",
    "            j.append(k)\n",
    "    if i == \"images\":\n",
    "        for k in to_be_dumped.get(\"images\"):\n",
    "            j.append(k)"
   ]
  },
  {
   "cell_type": "code",
   "execution_count": 13,
   "id": "22cd8258-4a4e-4411-918f-0da9682d4672",
   "metadata": {},
   "outputs": [
    {
     "name": "stdout",
     "output_type": "stream",
     "text": [
      "426\n",
      "3081\n",
      "9405\n"
     ]
    }
   ],
   "source": [
    "print(len(previous_annotation.get(\"categories\")))\n",
    "print(len(previous_annotation.get(\"images\")))\n",
    "print(len(previous_annotation.get(\"annotations\")))"
   ]
  },
  {
   "cell_type": "code",
   "execution_count": 14,
   "id": "e129cf11-2ed0-4ee5-a87c-8f88bd429278",
   "metadata": {},
   "outputs": [],
   "source": [
    "with open('new_annotation_val_2.json','w') as f:\n",
    "    json.dump(previous_annotation,f)"
   ]
  },
  {
   "cell_type": "code",
   "execution_count": 15,
   "id": "bfb2466b-131f-4d5f-b6c2-7b9eb427da06",
   "metadata": {},
   "outputs": [],
   "source": [
    "import shutil\n",
    "from loguru import logger\n",
    "def make_dataset(annotations:list,data_type:str) -> str:\n",
    "    labels = [\"chicken\",\"apple\",\"banana\",\"country_fries\",\"pizza_with_ham_with_mushrooms_baked\",\"rice\",\"tomato\",\"bread\", \"pizza\",\"chicken duck\"]\n",
    "    all_category = [category.get(\"name\") for category in annotations.get(\"categories\")]\n",
    "    required_category = [value for value in annotations.get(\"categories\") if value.get(\"name\") in labels]\n",
    "    required_idx = [value.get(\"id\") for value in required_category]\n",
    "    required_annotations = [value for value in annotations.get(\"annotations\") if value.get(\"category_id\") in required_idx]\n",
    "    required_images = []\n",
    "    for ann in tqdm(required_annotations):\n",
    "        img_idx = ann.get(\"image_id\")\n",
    "        original_img_idx = img_idx\n",
    "        if len(str(img_idx)) == 4:\n",
    "            img_idx = str(0)+str(0)+str(img_idx)\n",
    "        elif len(str(img_idx)) == 5:\n",
    "            img_idx = str(0)+str(img_idx)\n",
    "        if data_type == \"train\":\n",
    "            img_path = os.path.join(\"/home/gvc/Desktop/dev/Food-detection-main/Food_Segmentation/dataset/FoodSeg103/total_images/train\",str(img_idx)+'.jpg')\n",
    "            dest_path = os.path.join(\"/home/gvc/Desktop/dev/Food-detection-main/Food_Segmentation/dataset/FoodSeg103/new_2/train\",str(img_idx)+'.jpg')\n",
    "        else:\n",
    "            img_path = os.path.join(\"/home/gvc/Desktop/dev/Food-detection-main/Food_Segmentation/dataset/FoodSeg103/total_images/val\",str(img_idx)+'.jpg')\n",
    "            dest_path = os.path.join(\"/home/gvc/Desktop/dev/Food-detection-main/Food_Segmentation/dataset/FoodSeg103/new_2/val\",str(img_idx)+'.jpg')\n",
    "        \n",
    "        for i in annotations.get(\"images\"):\n",
    "            if i.get(\"id\") == original_img_idx:\n",
    "                required_images.append(i)\n",
    "    annotations[\"categories\"] = required_category\n",
    "    annotations[\"annotations\"] = required_annotations\n",
    "    annotations[\"images\"] = required_images\n",
    "    logger.info(f\"Category:{len(annotations['categories'])}\")\n",
    "    logger.info(f\"Images:{len(annotations['images'])}\")\n",
    "    if data_type == \"train\":\n",
    "        with open(\"/home/gvc/Desktop/dev/Food-detection-main/Food_Segmentation/dataset/FoodSeg103/new_2/train/annotations.json\",\"w\") as fp:\n",
    "            json.dump(annotations,fp)\n",
    "    else:\n",
    "        with open(\"/home/gvc/Desktop/dev/Food-detection-main/Food_Segmentation/dataset/FoodSeg103/new_2/val/annotations.json\",\"w\") as fp:\n",
    "            json.dump(annotations,fp)\n",
    "    print(\"Success\")"
   ]
  },
  {
   "cell_type": "code",
   "execution_count": 16,
   "id": "1ca090e0-c4f1-4063-b696-24ade2b7027a",
   "metadata": {},
   "outputs": [
    {
     "name": "stderr",
     "output_type": "stream",
     "text": [
      "100%|█████████████████████████████████████| 1626/1626 [00:00<00:00, 7643.02it/s]\n",
      "2022-04-27 14:02:09.412 | INFO     | __main__:make_dataset:33 - Category:15\n",
      "2022-04-27 14:02:09.412 | INFO     | __main__:make_dataset:34 - Images:1626\n"
     ]
    },
    {
     "name": "stdout",
     "output_type": "stream",
     "text": [
      "Success\n"
     ]
    }
   ],
   "source": [
    "make_dataset(previous_annotation,\"valid\")"
   ]
  },
  {
   "cell_type": "markdown",
   "id": "783cdf5b-f9a9-41d8-81c2-97ea04b0701d",
   "metadata": {},
   "source": [
    "## Make category id same"
   ]
  },
  {
   "cell_type": "code",
   "execution_count": 28,
   "id": "cfe18131-72ec-429e-8e93-e8399da9e9ea",
   "metadata": {},
   "outputs": [],
   "source": [
    "# read val data\n",
    "import json\n",
    "with open(\"/home/gvc/Desktop/dev/Food-detection-main/Food_Segmentation/dataset/FoodSeg103/new_2/train/annotations.json\",\"r\") as f:\n",
    "    cat_val = json.load(f)\n"
   ]
  },
  {
   "cell_type": "code",
   "execution_count": 18,
   "id": "2432f334-c910-419f-97e7-7330ef4939c6",
   "metadata": {},
   "outputs": [],
   "source": [
    "cat_to_be_replaced = {\n",
    "    \"48\":{\"categories\":\"chicken\", \"id\":101308},\n",
    "    \"73\":{\"categories\":\"tomato\", \"id\":100089},\n",
    "    \"58\":{\"categories\":\"bread\", \"id\":101243},\n",
    "    \"66\":{\"categories\":\"rice\", \"id\":101197},\n",
    "    \"29\":{\"categories\":\"banana\", \"id\":100133},\n",
    "    \"61\":{\"categories\":\"pizza_with_ham_with_mushrooms_baked\", \"id\":101170},\n",
    "    \"25\":{\"categories\":\"apple\", \"id\":100130},\n",
    "}"
   ]
  },
  {
   "cell_type": "code",
   "execution_count": 19,
   "id": "2dbdb8f3-e44c-40af-b624-e4336db993a5",
   "metadata": {},
   "outputs": [],
   "source": [
    "for key, value in cat_val.items():\n",
    "    if key == \"categories\":\n",
    "        for item in value:\n",
    "            id = item.get(\"id\")\n",
    "            item.update({\"id\":int(id)})\n",
    "            "
   ]
  },
  {
   "cell_type": "code",
   "execution_count": 20,
   "id": "c201e8ef-a274-4f3b-ac15-e9839d36cc78",
   "metadata": {},
   "outputs": [],
   "source": [
    "for key, value in cat_val.items():\n",
    "    if key == \"images\":\n",
    "        for item in value:\n",
    "            id = item.get(\"id\")\n",
    "            item.update({\"id\":int(id)})"
   ]
  },
  {
   "cell_type": "code",
   "execution_count": 21,
   "id": "66223395-5733-47c6-bb53-801ac1cb1186",
   "metadata": {},
   "outputs": [],
   "source": [
    "for key, value in cat_val.items():\n",
    "    if key == \"annotations\":\n",
    "        for item in value:\n",
    "            image_id = item.get(\"image_id\")\n",
    "            item.update({\"image_id\":int(image_id)})"
   ]
  },
  {
   "cell_type": "code",
   "execution_count": 30,
   "id": "4c8430a9-f4ce-4b6b-b206-7150f3a42432",
   "metadata": {},
   "outputs": [],
   "source": [
    "for key, value in cat_val.items():\n",
    "    if key == \"annotations\":\n",
    "        for j in value:\n",
    "            if len(j.get(\"segmentation\")) > 1:\n",
    "                seg_val = j.get(\"segmentation\")\n",
    "                j.update({\"segmentation\":[[j for i in seg_val for j in i]]})"
   ]
  },
  {
   "cell_type": "code",
   "execution_count": 23,
   "id": "76f840e9-8dfc-4ada-b144-28cdd69fd538",
   "metadata": {},
   "outputs": [],
   "source": [
    "for key, value in cat_val.items():\n",
    "    if key == \"annotations\":\n",
    "        for i in value:\n",
    "            category_id = i.get(\"category_id\")\n",
    "            if category_id in cat_to_be_replaced:\n",
    "                i.update({\"category_id\":cat_to_be_replaced.get(category_id).get(\"id\")})"
   ]
  },
  {
   "cell_type": "code",
   "execution_count": 34,
   "id": "b61ecab9-8570-4b67-a714-915524904910",
   "metadata": {},
   "outputs": [],
   "source": [
    "for key,value in cat_val.items():\n",
    "    if key == \"images\":\n",
    "        seen = set()\n",
    "        new_l = []\n",
    "        for d in value:\n",
    "            t = tuple(d.items())\n",
    "            if t not in seen:\n",
    "                seen.add(t)\n",
    "                new_l.append(d)\n",
    "cat_val.update({\"images\":new_l})"
   ]
  },
  {
   "cell_type": "code",
   "execution_count": 35,
   "id": "d59cea89-14a6-4b1f-a8d2-00466a33b820",
   "metadata": {},
   "outputs": [],
   "source": [
    "with open(\"/home/gvc/Desktop/dev/Food-detection-main/Food_Segmentation/dataset/FoodSeg103/new_2/train/annotations.json\", \"w\") as f:\n",
    "    json.dump(cat_val, f)"
   ]
  }
 ],
 "metadata": {
  "kernelspec": {
   "display_name": "Python 3 (ipykernel)",
   "language": "python",
   "name": "python3"
  },
  "language_info": {
   "codemirror_mode": {
    "name": "ipython",
    "version": 3
   },
   "file_extension": ".py",
   "mimetype": "text/x-python",
   "name": "python",
   "nbconvert_exporter": "python",
   "pygments_lexer": "ipython3",
   "version": "3.8.10"
  }
 },
 "nbformat": 4,
 "nbformat_minor": 5
}
