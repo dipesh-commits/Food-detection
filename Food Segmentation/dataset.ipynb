{
 "cells": [
  {
   "cell_type": "code",
   "execution_count": 10,
   "id": "28548b1c",
   "metadata": {
    "scrolled": true
   },
   "outputs": [],
   "source": [
    "import os\n",
    "import shutil\n",
    "import cv2\n",
    "import glob\n",
    "import pandas as pd\n",
    "import matplotlib.pyplot as plt\n",
    "from tqdm import tqdm"
   ]
  },
  {
   "cell_type": "code",
   "execution_count": 34,
   "id": "ef7640ab",
   "metadata": {},
   "outputs": [],
   "source": [
    "original_datapath = r\"C:\\Users\\dgyawa1\\Desktop\\dev\\food_data\"\n",
    "training_datapath = r\"C:\\Users\\dgyawa1\\Desktop\\dev\\yolo_data\"\n",
    "annotation_dir = r\"C:\\Users\\dgyawa1\\Desktop\\dev\\annot_data\""
   ]
  },
  {
   "cell_type": "code",
   "execution_count": 3,
   "id": "f580c7eb",
   "metadata": {},
   "outputs": [],
   "source": [
    "if not os.path.isdir(training_datapath):\n",
    "        os.makedirs(training_datapath)\n",
    "\n",
    "i = 0\n",
    "for label in os.listdir(original_datapath):\n",
    "    label_path = os.path.join(original_datapath,label)\n",
    "    for img in os.listdir(label_path):\n",
    "        src_path = os.path.join(label_path,img)\n",
    "        if img.endswith(\".jpg\"):\n",
    "            dest_filename = os.path.splitext(img)[0] + \"_\" + label +\".jpg\"\n",
    "            dest_path = os.path.join(training_datapath,dest_filename)\n",
    "            shutil.copy(src_path,dest_path)\n",
    "        if img.endswith(\".txt\"):\n",
    "            with open(src_path,\"r\") as f:\n",
    "                for line in f.readlines():\n",
    "                    all_line = line.split(\" \") \n",
    "                    txt_filename = all_line[0] + \"_\" + label +\".txt\"\n",
    "                    all_line[0] = str(i)\n",
    "                    txt_destination = os.path.join(training_datapath,txt_filename)\n",
    "                    with open(txt_destination, \"w\") as fname:\n",
    "                        fname.write(\" \".join(all_line))\n",
    "    i = i+1"
   ]
  },
  {
   "cell_type": "markdown",
   "id": "5bb91ff7",
   "metadata": {},
   "source": [
    "## Visualize the dataset"
   ]
  },
  {
   "cell_type": "code",
   "execution_count": 41,
   "id": "a517f8b3",
   "metadata": {},
   "outputs": [
    {
     "name": "stderr",
     "output_type": "stream",
     "text": [
      "100%|██████████| 890/890 [00:10<00:00, 88.42it/s] \n"
     ]
    }
   ],
   "source": [
    "all_images = glob.glob(r\"C:\\Users\\dgyawa1\\Desktop\\dev\\yolo_data\\*.jpg\")\n",
    "\n",
    "label_dict = {\n",
    "    \"0\":\"chicken\",\n",
    "    \"1\": \"fries\",\n",
    "    \"2\": \"lettuce\",\n",
    "    \"3\": \"pizza\",\n",
    "    \"4\": \"roll\"\n",
    "}\n",
    "\n",
    "\n",
    "for file in tqdm(all_images):\n",
    "    img_name = os.path.splitext(os.path.basename(file))[0]\n",
    "    file_name = os.path.join(training_datapath,img_name+\".txt\")\n",
    "    with open(file_name,\"r\") as f:\n",
    "        for i in f.readlines():\n",
    "            all_line = i.split(\" \")\n",
    "            label,x0,y0,x2,y2 = all_line[0], int(all_line[1]), int(all_line[2]), int(all_line[3]), int(all_line[4])\n",
    "            img = cv2.imread(file)\n",
    "#             img = cv2.cvtColor(img,cv2.COLOR_BGR2RGB)\n",
    "            cv2.rectangle(img,(x0,y0),(x2,y2),(0,0,255),2)\n",
    "            cv2.putText(img,label_dict[label],(x0+5,y0-5), cv2.FONT_HERSHEY_SIMPLEX, 1, (255,0,0),2)\n",
    "            save_dir = os.path.join(annotation_dir,os.path.basename(file))\n",
    "            cv2.imwrite(save_dir,img)    "
   ]
  },
  {
   "cell_type": "code",
   "execution_count": null,
   "id": "94646303",
   "metadata": {},
   "outputs": [],
   "source": []
  }
 ],
 "metadata": {
  "kernelspec": {
   "display_name": "Python 3 (ipykernel)",
   "language": "python",
   "name": "python3"
  },
  "language_info": {
   "codemirror_mode": {
    "name": "ipython",
    "version": 3
   },
   "file_extension": ".py",
   "mimetype": "text/x-python",
   "name": "python",
   "nbconvert_exporter": "python",
   "pygments_lexer": "ipython3",
   "version": "3.7.0"
  }
 },
 "nbformat": 4,
 "nbformat_minor": 5
}
